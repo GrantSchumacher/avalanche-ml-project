{
 "cells": [
  {
   "cell_type": "code",
   "execution_count": 215,
   "id": "30ec5d5e-66bd-45e2-9777-8ffa4d3ea6a1",
   "metadata": {},
   "outputs": [],
   "source": [
    "import pandas as pd\n",
    "import matplotlib.pyplot as plt\n",
    "import seaborn as sns\n",
    "import numpy as np"
   ]
  },
  {
   "cell_type": "code",
   "execution_count": 216,
   "id": "c466c72e-b7ce-4d94-8a68-d886103499b3",
   "metadata": {},
   "outputs": [],
   "source": [
    "data = pd.read_csv('accidents.csv', header = None)"
   ]
  },
  {
   "cell_type": "code",
   "execution_count": 217,
   "id": "f62c2709-6bae-484b-91e7-05f0ce163b22",
   "metadata": {},
   "outputs": [
    {
     "data": {
      "text/html": [
       "<div>\n",
       "<style scoped>\n",
       "    .dataframe tbody tr th:only-of-type {\n",
       "        vertical-align: middle;\n",
       "    }\n",
       "\n",
       "    .dataframe tbody tr th {\n",
       "        vertical-align: top;\n",
       "    }\n",
       "\n",
       "    .dataframe thead th {\n",
       "        text-align: right;\n",
       "    }\n",
       "</style>\n",
       "<table border=\"1\" class=\"dataframe\">\n",
       "  <thead>\n",
       "    <tr style=\"text-align: right;\">\n",
       "      <th></th>\n",
       "      <th>0</th>\n",
       "      <th>1</th>\n",
       "      <th>2</th>\n",
       "      <th>3</th>\n",
       "      <th>4</th>\n",
       "      <th>5</th>\n",
       "      <th>6</th>\n",
       "      <th>7</th>\n",
       "      <th>8</th>\n",
       "      <th>9</th>\n",
       "      <th>...</th>\n",
       "      <th>79</th>\n",
       "      <th>80</th>\n",
       "      <th>81</th>\n",
       "      <th>82</th>\n",
       "      <th>83</th>\n",
       "      <th>84</th>\n",
       "      <th>85</th>\n",
       "      <th>86</th>\n",
       "      <th>87</th>\n",
       "      <th>88</th>\n",
       "    </tr>\n",
       "  </thead>\n",
       "  <tbody>\n",
       "    <tr>\n",
       "      <th>0</th>\n",
       "      <td>56a72710-563d-410e-a744-468d2421092e</td>\n",
       "      <td>Forecaster, CAIC</td>\n",
       "      <td>2/20/2018 7:00</td>\n",
       "      <td>Known</td>\n",
       "      <td>Estimated</td>\n",
       "      <td>38.008880</td>\n",
       "      <td>-107.873070</td>\n",
       "      <td>NaN</td>\n",
       "      <td>NaN</td>\n",
       "      <td>NaN</td>\n",
       "      <td>...</td>\n",
       "      <td>NaN</td>\n",
       "      <td>NaN</td>\n",
       "      <td>NaN</td>\n",
       "      <td>NaN</td>\n",
       "      <td>NaN</td>\n",
       "      <td>NaN</td>\n",
       "      <td>NaN</td>\n",
       "      <td>NaN</td>\n",
       "      <td>NaN</td>\n",
       "      <td>{\"Convex Slope\"}</td>\n",
       "    </tr>\n",
       "    <tr>\n",
       "      <th>1</th>\n",
       "      <td>6e872258-f60c-47bb-b6eb-484cc0fe3e89</td>\n",
       "      <td>Forecaster, CAIC</td>\n",
       "      <td>12/19/2024 19:00</td>\n",
       "      <td>Estimated</td>\n",
       "      <td>Unknown</td>\n",
       "      <td>39.682316</td>\n",
       "      <td>-105.930845</td>\n",
       "      <td>f</td>\n",
       "      <td>f</td>\n",
       "      <td>t</td>\n",
       "      <td>...</td>\n",
       "      <td>{}</td>\n",
       "      <td>NaN</td>\n",
       "      <td>NaN</td>\n",
       "      <td>NaN</td>\n",
       "      <td>NaN</td>\n",
       "      <td>NaN</td>\n",
       "      <td>NaN</td>\n",
       "      <td>NaN</td>\n",
       "      <td>NaN</td>\n",
       "      <td>{}</td>\n",
       "    </tr>\n",
       "    <tr>\n",
       "      <th>2</th>\n",
       "      <td>22315e1b-b4cf-4de4-9c1b-9a3d124db2d4</td>\n",
       "      <td>Forecaster, CAIC</td>\n",
       "      <td>1/22/2012 19:00</td>\n",
       "      <td>Known</td>\n",
       "      <td>Unknown</td>\n",
       "      <td>40.506490</td>\n",
       "      <td>-105.886230</td>\n",
       "      <td>f</td>\n",
       "      <td>f</td>\n",
       "      <td>t</td>\n",
       "      <td>...</td>\n",
       "      <td>{}</td>\n",
       "      <td>NaN</td>\n",
       "      <td>NaN</td>\n",
       "      <td>NaN</td>\n",
       "      <td>NaN</td>\n",
       "      <td>NaN</td>\n",
       "      <td>NaN</td>\n",
       "      <td>NaN</td>\n",
       "      <td>NaN</td>\n",
       "      <td>{}</td>\n",
       "    </tr>\n",
       "    <tr>\n",
       "      <th>3</th>\n",
       "      <td>4cc8fd48-c67f-40c3-963f-1c3bbed8676b</td>\n",
       "      <td>Forecaster, CAIC</td>\n",
       "      <td>1/22/2012 7:00</td>\n",
       "      <td>Known</td>\n",
       "      <td>Unknown</td>\n",
       "      <td>39.886920</td>\n",
       "      <td>-105.760660</td>\n",
       "      <td>NaN</td>\n",
       "      <td>NaN</td>\n",
       "      <td>NaN</td>\n",
       "      <td>...</td>\n",
       "      <td>NaN</td>\n",
       "      <td>NaN</td>\n",
       "      <td>NaN</td>\n",
       "      <td>NaN</td>\n",
       "      <td>NaN</td>\n",
       "      <td>NaN</td>\n",
       "      <td>NaN</td>\n",
       "      <td>NaN</td>\n",
       "      <td>NaN</td>\n",
       "      <td>NaN</td>\n",
       "    </tr>\n",
       "    <tr>\n",
       "      <th>4</th>\n",
       "      <td>50f496f8-21d1-4a6f-a250-8b7c821810c1</td>\n",
       "      <td>Forecaster, CAIC</td>\n",
       "      <td>1/14/2018 19:00</td>\n",
       "      <td>Known</td>\n",
       "      <td>Unknown</td>\n",
       "      <td>38.689060</td>\n",
       "      <td>-106.355380</td>\n",
       "      <td>f</td>\n",
       "      <td>f</td>\n",
       "      <td>t</td>\n",
       "      <td>...</td>\n",
       "      <td>{}</td>\n",
       "      <td>NaN</td>\n",
       "      <td>NaN</td>\n",
       "      <td>NaN</td>\n",
       "      <td>NaN</td>\n",
       "      <td>NaN</td>\n",
       "      <td>NaN</td>\n",
       "      <td>NaN</td>\n",
       "      <td>NaN</td>\n",
       "      <td>{}</td>\n",
       "    </tr>\n",
       "  </tbody>\n",
       "</table>\n",
       "<p>5 rows × 89 columns</p>\n",
       "</div>"
      ],
      "text/plain": [
       "                                     0                 1                 2   \\\n",
       "0  56a72710-563d-410e-a744-468d2421092e  Forecaster, CAIC    2/20/2018 7:00   \n",
       "1  6e872258-f60c-47bb-b6eb-484cc0fe3e89  Forecaster, CAIC  12/19/2024 19:00   \n",
       "2  22315e1b-b4cf-4de4-9c1b-9a3d124db2d4  Forecaster, CAIC   1/22/2012 19:00   \n",
       "3  4cc8fd48-c67f-40c3-963f-1c3bbed8676b  Forecaster, CAIC    1/22/2012 7:00   \n",
       "4  50f496f8-21d1-4a6f-a250-8b7c821810c1  Forecaster, CAIC   1/14/2018 19:00   \n",
       "\n",
       "          3          4          5           6    7    8    9   ...   79  80  \\\n",
       "0      Known  Estimated  38.008880 -107.873070  NaN  NaN  NaN  ...  NaN NaN   \n",
       "1  Estimated    Unknown  39.682316 -105.930845    f    f    t  ...   {} NaN   \n",
       "2      Known    Unknown  40.506490 -105.886230    f    f    t  ...   {} NaN   \n",
       "3      Known    Unknown  39.886920 -105.760660  NaN  NaN  NaN  ...  NaN NaN   \n",
       "4      Known    Unknown  38.689060 -106.355380    f    f    t  ...   {} NaN   \n",
       "\n",
       "   81   82   83  84  85   86   87                88  \n",
       "0 NaN  NaN  NaN NaN NaN  NaN  NaN  {\"Convex Slope\"}  \n",
       "1 NaN  NaN  NaN NaN NaN  NaN  NaN                {}  \n",
       "2 NaN  NaN  NaN NaN NaN  NaN  NaN                {}  \n",
       "3 NaN  NaN  NaN NaN NaN  NaN  NaN               NaN  \n",
       "4 NaN  NaN  NaN NaN NaN  NaN  NaN                {}  \n",
       "\n",
       "[5 rows x 89 columns]"
      ]
     },
     "execution_count": 217,
     "metadata": {},
     "output_type": "execute_result"
    }
   ],
   "source": [
    "data.head()"
   ]
  },
  {
   "cell_type": "code",
   "execution_count": 218,
   "id": "abe486d6-a0b8-4b2c-a707-c62cbe06548f",
   "metadata": {},
   "outputs": [
    {
     "name": "stdout",
     "output_type": "stream",
     "text": [
      "<class 'pandas.core.frame.DataFrame'>\n",
      "RangeIndex: 308 entries, 0 to 307\n",
      "Data columns (total 89 columns):\n",
      " #   Column  Non-Null Count  Dtype  \n",
      "---  ------  --------------  -----  \n",
      " 0   0       308 non-null    object \n",
      " 1   1       296 non-null    object \n",
      " 2   2       308 non-null    object \n",
      " 3   3       308 non-null    object \n",
      " 4   4       294 non-null    object \n",
      " 5   5       308 non-null    float64\n",
      " 6   6       308 non-null    float64\n",
      " 7   7       42 non-null     object \n",
      " 8   8       42 non-null     object \n",
      " 9   9       42 non-null     object \n",
      " 10  10      308 non-null    object \n",
      " 11  11      200 non-null    object \n",
      " 12  12      109 non-null    object \n",
      " 13  13      308 non-null    object \n",
      " 14  14      308 non-null    int64  \n",
      " 15  15      199 non-null    object \n",
      " 16  16      213 non-null    object \n",
      " 17  17      308 non-null    object \n",
      " 18  18      20 non-null     float64\n",
      " 19  19      256 non-null    object \n",
      " 20  20      285 non-null    object \n",
      " 21  21      12 non-null     object \n",
      " 22  22      252 non-null    object \n",
      " 23  23      256 non-null    object \n",
      " 24  24      271 non-null    object \n",
      " 25  25      238 non-null    object \n",
      " 26  26      0 non-null      float64\n",
      " 27  27      1 non-null      object \n",
      " 28  28      5 non-null      float64\n",
      " 29  29      0 non-null      float64\n",
      " 30  30      275 non-null    float64\n",
      " 31  31      250 non-null    object \n",
      " 32  32      122 non-null    object \n",
      " 33  33      0 non-null      float64\n",
      " 34  34      183 non-null    float64\n",
      " 35  35      116 non-null    float64\n",
      " 36  36      218 non-null    object \n",
      " 37  37      187 non-null    float64\n",
      " 38  38      70 non-null     float64\n",
      " 39  39      219 non-null    object \n",
      " 40  40      183 non-null    float64\n",
      " 41  41      74 non-null     float64\n",
      " 42  42      220 non-null    object \n",
      " 43  43      221 non-null    float64\n",
      " 44  44      221 non-null    float64\n",
      " 45  45      10 non-null     object \n",
      " 46  46      193 non-null    float64\n",
      " 47  47      182 non-null    object \n",
      " 48  48      114 non-null    object \n",
      " 49  49      115 non-null    object \n",
      " 50  50      12 non-null     object \n",
      " 51  51      104 non-null    object \n",
      " 52  52      84 non-null     float64\n",
      " 53  53      84 non-null     object \n",
      " 54  54      110 non-null    object \n",
      " 55  55      6 non-null      object \n",
      " 56  56      116 non-null    object \n",
      " 57  57      89 non-null     float64\n",
      " 58  58      84 non-null     float64\n",
      " 59  59      82 non-null     object \n",
      " 60  60      8 non-null      object \n",
      " 61  61      74 non-null     object \n",
      " 62  62      46 non-null     float64\n",
      " 63  63      146 non-null    float64\n",
      " 64  64      308 non-null    object \n",
      " 65  65      123 non-null    float64\n",
      " 66  66      98 non-null     float64\n",
      " 67  67      134 non-null    float64\n",
      " 68  68      86 non-null     float64\n",
      " 69  69      110 non-null    object \n",
      " 70  70      119 non-null    object \n",
      " 71  71      64 non-null     object \n",
      " 72  72      93 non-null     float64\n",
      " 73  73      100 non-null    float64\n",
      " 74  74      89 non-null     object \n",
      " 75  75      88 non-null     object \n",
      " 76  76      116 non-null    float64\n",
      " 77  77      308 non-null    object \n",
      " 78  78      1 non-null      float64\n",
      " 79  79      238 non-null    object \n",
      " 80  80      70 non-null     float64\n",
      " 81  81      85 non-null     float64\n",
      " 82  82      71 non-null     object \n",
      " 83  83      79 non-null     object \n",
      " 84  84      84 non-null     float64\n",
      " 85  85      20 non-null     float64\n",
      " 86  86      121 non-null    object \n",
      " 87  87      101 non-null    object \n",
      " 88  88      288 non-null    object \n",
      "dtypes: float64(34), int64(1), object(54)\n",
      "memory usage: 214.3+ KB\n"
     ]
    }
   ],
   "source": [
    "data.info()"
   ]
  },
  {
   "cell_type": "code",
   "execution_count": 219,
   "id": "7e3658ec-f225-42a3-bc46-d4f6e36ad5b2",
   "metadata": {},
   "outputs": [
    {
     "data": {
      "text/html": [
       "<div>\n",
       "<style scoped>\n",
       "    .dataframe tbody tr th:only-of-type {\n",
       "        vertical-align: middle;\n",
       "    }\n",
       "\n",
       "    .dataframe tbody tr th {\n",
       "        vertical-align: top;\n",
       "    }\n",
       "\n",
       "    .dataframe thead th {\n",
       "        text-align: right;\n",
       "    }\n",
       "</style>\n",
       "<table border=\"1\" class=\"dataframe\">\n",
       "  <thead>\n",
       "    <tr style=\"text-align: right;\">\n",
       "      <th></th>\n",
       "      <th>2</th>\n",
       "      <th>5</th>\n",
       "      <th>6</th>\n",
       "      <th>19</th>\n",
       "      <th>20</th>\n",
       "      <th>30</th>\n",
       "      <th>46</th>\n",
       "    </tr>\n",
       "  </thead>\n",
       "  <tbody>\n",
       "    <tr>\n",
       "      <th>0</th>\n",
       "      <td>2/20/2018 7:00</td>\n",
       "      <td>38.008880</td>\n",
       "      <td>-107.873070</td>\n",
       "      <td>HS</td>\n",
       "      <td>N</td>\n",
       "      <td>11400.0</td>\n",
       "      <td>NaN</td>\n",
       "    </tr>\n",
       "    <tr>\n",
       "      <th>1</th>\n",
       "      <td>12/19/2024 19:00</td>\n",
       "      <td>39.682316</td>\n",
       "      <td>-105.930845</td>\n",
       "      <td>NaN</td>\n",
       "      <td>W</td>\n",
       "      <td>11600.0</td>\n",
       "      <td>NaN</td>\n",
       "    </tr>\n",
       "    <tr>\n",
       "      <th>2</th>\n",
       "      <td>1/22/2012 19:00</td>\n",
       "      <td>40.506490</td>\n",
       "      <td>-105.886230</td>\n",
       "      <td>NaN</td>\n",
       "      <td>NaN</td>\n",
       "      <td>NaN</td>\n",
       "      <td>NaN</td>\n",
       "    </tr>\n",
       "    <tr>\n",
       "      <th>3</th>\n",
       "      <td>1/22/2012 7:00</td>\n",
       "      <td>39.886920</td>\n",
       "      <td>-105.760660</td>\n",
       "      <td>NaN</td>\n",
       "      <td>N</td>\n",
       "      <td>10400.0</td>\n",
       "      <td>NaN</td>\n",
       "    </tr>\n",
       "    <tr>\n",
       "      <th>4</th>\n",
       "      <td>1/14/2018 19:00</td>\n",
       "      <td>38.689060</td>\n",
       "      <td>-106.355380</td>\n",
       "      <td>SS</td>\n",
       "      <td>NE</td>\n",
       "      <td>11200.0</td>\n",
       "      <td>35.0</td>\n",
       "    </tr>\n",
       "  </tbody>\n",
       "</table>\n",
       "</div>"
      ],
      "text/plain": [
       "                 2          5           6    19   20       30    46\n",
       "0    2/20/2018 7:00  38.008880 -107.873070   HS    N  11400.0   NaN\n",
       "1  12/19/2024 19:00  39.682316 -105.930845  NaN    W  11600.0   NaN\n",
       "2   1/22/2012 19:00  40.506490 -105.886230  NaN  NaN      NaN   NaN\n",
       "3    1/22/2012 7:00  39.886920 -105.760660  NaN    N  10400.0   NaN\n",
       "4   1/14/2018 19:00  38.689060 -106.355380   SS   NE  11200.0  35.0"
      ]
     },
     "execution_count": 219,
     "metadata": {},
     "output_type": "execute_result"
    }
   ],
   "source": [
    "#I used excel to identify the columns worth keeping, then converted their column letters into array positions\n",
    "#I will keep these columns\n",
    "cols_to_keep = [2, 5, 6, 19, 20, 30, 46]\n",
    "\n",
    "avalanche_df = data[cols_to_keep]\n",
    "\n",
    "#Now we should have the unique accident ID, date, latitude, longitude, avalanche type, aspect, elevation, and slope degree\n",
    "avalanche_df.head()"
   ]
  },
  {
   "cell_type": "code",
   "execution_count": 220,
   "id": "ed426052-b4c4-4799-95dd-c1ffaa9949aa",
   "metadata": {},
   "outputs": [],
   "source": [
    "#Now I'll name the columns that we want to keep\n",
    "avalanche_df.columns = ['Date','Latitude','Longitude','Avalanche Type','Aspect','Elevation','Slope Degree']"
   ]
  },
  {
   "cell_type": "code",
   "execution_count": 221,
   "id": "1a132129-6b16-45d0-92ec-611ce37d72a0",
   "metadata": {},
   "outputs": [
    {
     "data": {
      "text/html": [
       "<div>\n",
       "<style scoped>\n",
       "    .dataframe tbody tr th:only-of-type {\n",
       "        vertical-align: middle;\n",
       "    }\n",
       "\n",
       "    .dataframe tbody tr th {\n",
       "        vertical-align: top;\n",
       "    }\n",
       "\n",
       "    .dataframe thead th {\n",
       "        text-align: right;\n",
       "    }\n",
       "</style>\n",
       "<table border=\"1\" class=\"dataframe\">\n",
       "  <thead>\n",
       "    <tr style=\"text-align: right;\">\n",
       "      <th></th>\n",
       "      <th>Date</th>\n",
       "      <th>Latitude</th>\n",
       "      <th>Longitude</th>\n",
       "      <th>Avalanche Type</th>\n",
       "      <th>Aspect</th>\n",
       "      <th>Elevation</th>\n",
       "      <th>Slope Degree</th>\n",
       "    </tr>\n",
       "  </thead>\n",
       "  <tbody>\n",
       "    <tr>\n",
       "      <th>0</th>\n",
       "      <td>2/20/2018 7:00</td>\n",
       "      <td>38.008880</td>\n",
       "      <td>-107.873070</td>\n",
       "      <td>HS</td>\n",
       "      <td>N</td>\n",
       "      <td>11400.0</td>\n",
       "      <td>NaN</td>\n",
       "    </tr>\n",
       "    <tr>\n",
       "      <th>1</th>\n",
       "      <td>12/19/2024 19:00</td>\n",
       "      <td>39.682316</td>\n",
       "      <td>-105.930845</td>\n",
       "      <td>NaN</td>\n",
       "      <td>W</td>\n",
       "      <td>11600.0</td>\n",
       "      <td>NaN</td>\n",
       "    </tr>\n",
       "    <tr>\n",
       "      <th>2</th>\n",
       "      <td>1/22/2012 19:00</td>\n",
       "      <td>40.506490</td>\n",
       "      <td>-105.886230</td>\n",
       "      <td>NaN</td>\n",
       "      <td>NaN</td>\n",
       "      <td>NaN</td>\n",
       "      <td>NaN</td>\n",
       "    </tr>\n",
       "    <tr>\n",
       "      <th>3</th>\n",
       "      <td>1/22/2012 7:00</td>\n",
       "      <td>39.886920</td>\n",
       "      <td>-105.760660</td>\n",
       "      <td>NaN</td>\n",
       "      <td>N</td>\n",
       "      <td>10400.0</td>\n",
       "      <td>NaN</td>\n",
       "    </tr>\n",
       "    <tr>\n",
       "      <th>4</th>\n",
       "      <td>1/14/2018 19:00</td>\n",
       "      <td>38.689060</td>\n",
       "      <td>-106.355380</td>\n",
       "      <td>SS</td>\n",
       "      <td>NE</td>\n",
       "      <td>11200.0</td>\n",
       "      <td>35.0</td>\n",
       "    </tr>\n",
       "  </tbody>\n",
       "</table>\n",
       "</div>"
      ],
      "text/plain": [
       "               Date   Latitude   Longitude Avalanche Type Aspect  Elevation  \\\n",
       "0    2/20/2018 7:00  38.008880 -107.873070             HS      N    11400.0   \n",
       "1  12/19/2024 19:00  39.682316 -105.930845            NaN      W    11600.0   \n",
       "2   1/22/2012 19:00  40.506490 -105.886230            NaN    NaN        NaN   \n",
       "3    1/22/2012 7:00  39.886920 -105.760660            NaN      N    10400.0   \n",
       "4   1/14/2018 19:00  38.689060 -106.355380             SS     NE    11200.0   \n",
       "\n",
       "   Slope Degree  \n",
       "0           NaN  \n",
       "1           NaN  \n",
       "2           NaN  \n",
       "3           NaN  \n",
       "4          35.0  "
      ]
     },
     "execution_count": 221,
     "metadata": {},
     "output_type": "execute_result"
    }
   ],
   "source": [
    "#Lets check and see how it looks with the column names\n",
    "avalanche_df.head()"
   ]
  },
  {
   "cell_type": "code",
   "execution_count": 222,
   "id": "96e383d8-3442-4db7-b546-30a01e3c16de",
   "metadata": {},
   "outputs": [
    {
     "data": {
      "text/plain": [
       "52"
      ]
     },
     "execution_count": 222,
     "metadata": {},
     "output_type": "execute_result"
    }
   ],
   "source": [
    "#Lets see how many Avalanche Types (the Y of our model) we are missing\n",
    "avalanche_df['Avalanche Type'].isna().sum()"
   ]
  },
  {
   "cell_type": "code",
   "execution_count": 223,
   "id": "632712f3-06a9-486a-b210-896b0892ba42",
   "metadata": {},
   "outputs": [
    {
     "data": {
      "text/plain": [
       "256"
      ]
     },
     "execution_count": 223,
     "metadata": {},
     "output_type": "execute_result"
    }
   ],
   "source": [
    "#Lets compare that to how many non-nan values we have\n",
    "avalanche_df['Avalanche Type'].count()"
   ]
  },
  {
   "cell_type": "code",
   "execution_count": 224,
   "id": "28cd7604-5955-454e-a769-e915122ba54f",
   "metadata": {},
   "outputs": [
    {
     "data": {
      "text/plain": [
       "308"
      ]
     },
     "execution_count": 224,
     "metadata": {},
     "output_type": "execute_result"
    }
   ],
   "source": [
    "#And then the total length of the column\n",
    "len(avalanche_df['Avalanche Type'])"
   ]
  },
  {
   "cell_type": "code",
   "execution_count": 225,
   "id": "6576479b-4681-4d31-a593-560a354f580f",
   "metadata": {},
   "outputs": [],
   "source": [
    "#We cannot impute, guess, or leave missing values in the target values unfortunately. This would break the training process of the model. \n",
    "#For the sake of this project, I will need to drop the 50 missing rows.\n",
    "avalanche_df = avalanche_df.dropna(subset = ['Avalanche Type'])\n"
   ]
  },
  {
   "cell_type": "code",
   "execution_count": 226,
   "id": "ac13569d-9e8b-4fe2-af58-8f69f52a4be1",
   "metadata": {},
   "outputs": [
    {
     "data": {
      "text/html": [
       "<div>\n",
       "<style scoped>\n",
       "    .dataframe tbody tr th:only-of-type {\n",
       "        vertical-align: middle;\n",
       "    }\n",
       "\n",
       "    .dataframe tbody tr th {\n",
       "        vertical-align: top;\n",
       "    }\n",
       "\n",
       "    .dataframe thead th {\n",
       "        text-align: right;\n",
       "    }\n",
       "</style>\n",
       "<table border=\"1\" class=\"dataframe\">\n",
       "  <thead>\n",
       "    <tr style=\"text-align: right;\">\n",
       "      <th></th>\n",
       "      <th>Date</th>\n",
       "      <th>Latitude</th>\n",
       "      <th>Longitude</th>\n",
       "      <th>Avalanche Type</th>\n",
       "      <th>Aspect</th>\n",
       "      <th>Elevation</th>\n",
       "      <th>Slope Degree</th>\n",
       "    </tr>\n",
       "  </thead>\n",
       "  <tbody>\n",
       "    <tr>\n",
       "      <th>156</th>\n",
       "      <td>1/17/2019 7:00</td>\n",
       "      <td>38.808250</td>\n",
       "      <td>-106.413350</td>\n",
       "      <td>SS</td>\n",
       "      <td>E</td>\n",
       "      <td>12000.0</td>\n",
       "      <td>40.0</td>\n",
       "    </tr>\n",
       "    <tr>\n",
       "      <th>184</th>\n",
       "      <td>2/22/2025 19:00</td>\n",
       "      <td>39.800478</td>\n",
       "      <td>-105.772558</td>\n",
       "      <td>HS</td>\n",
       "      <td>NW</td>\n",
       "      <td>11470.0</td>\n",
       "      <td>NaN</td>\n",
       "    </tr>\n",
       "    <tr>\n",
       "      <th>198</th>\n",
       "      <td>1/17/2019 7:00</td>\n",
       "      <td>38.808250</td>\n",
       "      <td>-106.413350</td>\n",
       "      <td>SS</td>\n",
       "      <td>E</td>\n",
       "      <td>12000.0</td>\n",
       "      <td>40.0</td>\n",
       "    </tr>\n",
       "    <tr>\n",
       "      <th>219</th>\n",
       "      <td>2/22/2025 19:00</td>\n",
       "      <td>39.800478</td>\n",
       "      <td>-105.772558</td>\n",
       "      <td>HS</td>\n",
       "      <td>NW</td>\n",
       "      <td>NaN</td>\n",
       "      <td>NaN</td>\n",
       "    </tr>\n",
       "  </tbody>\n",
       "</table>\n",
       "</div>"
      ],
      "text/plain": [
       "                Date   Latitude   Longitude Avalanche Type Aspect  Elevation  \\\n",
       "156   1/17/2019 7:00  38.808250 -106.413350             SS      E    12000.0   \n",
       "184  2/22/2025 19:00  39.800478 -105.772558             HS     NW    11470.0   \n",
       "198   1/17/2019 7:00  38.808250 -106.413350             SS      E    12000.0   \n",
       "219  2/22/2025 19:00  39.800478 -105.772558             HS     NW        NaN   \n",
       "\n",
       "     Slope Degree  \n",
       "156          40.0  \n",
       "184           NaN  \n",
       "198          40.0  \n",
       "219           NaN  "
      ]
     },
     "execution_count": 226,
     "metadata": {},
     "output_type": "execute_result"
    }
   ],
   "source": [
    "#Next, lets check for duplicate values, the CAIC warned there may be duplicate values reported for avalanche accidents.\n",
    "#We will start by checking for total duplicate values in the list. Accidents with the same latitude, longitude, and time would be guaranteed duplicates\n",
    "#So we will remove those. \n",
    "duplicates = avalanche_df[avalanche_df.duplicated(['Date','Latitude','Longitude'], keep = False)]\n",
    "duplicates"
   ]
  },
  {
   "cell_type": "code",
   "execution_count": 227,
   "id": "e7ecbc4f-7c51-4172-8ecb-28e3fbb6ad28",
   "metadata": {},
   "outputs": [],
   "source": [
    "#We have two duplicate avalanche accidents reported. Let's remove one.\n",
    "avalanche_df = avalanche_df.drop_duplicates(['Date','Latitude','Longitude'],keep = False)"
   ]
  },
  {
   "cell_type": "code",
   "execution_count": 228,
   "id": "db5d2a1b-3050-4a5f-9b6b-51b7586679a2",
   "metadata": {},
   "outputs": [
    {
     "data": {
      "text/html": [
       "<div>\n",
       "<style scoped>\n",
       "    .dataframe tbody tr th:only-of-type {\n",
       "        vertical-align: middle;\n",
       "    }\n",
       "\n",
       "    .dataframe tbody tr th {\n",
       "        vertical-align: top;\n",
       "    }\n",
       "\n",
       "    .dataframe thead th {\n",
       "        text-align: right;\n",
       "    }\n",
       "</style>\n",
       "<table border=\"1\" class=\"dataframe\">\n",
       "  <thead>\n",
       "    <tr style=\"text-align: right;\">\n",
       "      <th></th>\n",
       "      <th>Date</th>\n",
       "      <th>Latitude</th>\n",
       "      <th>Longitude</th>\n",
       "      <th>Avalanche Type</th>\n",
       "      <th>Aspect</th>\n",
       "      <th>Elevation</th>\n",
       "      <th>Slope Degree</th>\n",
       "    </tr>\n",
       "  </thead>\n",
       "  <tbody>\n",
       "  </tbody>\n",
       "</table>\n",
       "</div>"
      ],
      "text/plain": [
       "Empty DataFrame\n",
       "Columns: [Date, Latitude, Longitude, Avalanche Type, Aspect, Elevation, Slope Degree]\n",
       "Index: []"
      ]
     },
     "execution_count": 228,
     "metadata": {},
     "output_type": "execute_result"
    }
   ],
   "source": [
    "#And now I'll check again that it worked:\n",
    "duplicates = avalanche_df[avalanche_df.duplicated(keep = False)]\n",
    "duplicates"
   ]
  },
  {
   "cell_type": "code",
   "execution_count": 229,
   "id": "48dd70e0-3b6b-4a04-abed-b46821375af7",
   "metadata": {},
   "outputs": [
    {
     "data": {
      "text/plain": [
       "<Axes: >"
      ]
     },
     "execution_count": 229,
     "metadata": {},
     "output_type": "execute_result"
    },
    {
     "data": {
      "image/png": "[encoded data removed]",
      "text/plain": [
       "<Figure size 640x480 with 1 Axes>"
      ]
     },
     "metadata": {},
     "output_type": "display_data"
    }
   ],
   "source": [
    "#I like to use this trick to visualize how much missing data we have. It looks like theres a lot of missing slope degree and some missing\n",
    "#Data from other data types. Thankfully there are no missing dates, latitudes, or longitudes so I think we can feature engineer and fill these in\n",
    "sns.heatmap(avalanche_df.isnull(), yticklabels = False, cbar = False, cmap = 'viridis')"
   ]
  },
  {
   "cell_type": "code",
   "execution_count": 230,
   "id": "1fd9b367-6e10-4811-a8a5-fa90e1e6065b",
   "metadata": {},
   "outputs": [],
   "source": [
    "#I'm going to focus on getting elevation sorted out first. Let me get familiar with elevation"
   ]
  },
  {
   "cell_type": "code",
   "execution_count": 231,
   "id": "56451242-1896-40c9-a60a-22bb2ca3368a",
   "metadata": {},
   "outputs": [
    {
     "data": {
      "text/plain": [
       "<Axes: ylabel='Elevation'>"
      ]
     },
     "execution_count": 231,
     "metadata": {},
     "output_type": "execute_result"
    },
    {
     "data": {
      "image/png": "[encoded data removed]",
      "text/plain": [
       "<Figure size 640x480 with 1 Axes>"
      ]
     },
     "metadata": {},
     "output_type": "display_data"
    }
   ],
   "source": [
    "sns.boxplot(avalanche_df, y = 'Elevation')"
   ]
  },
  {
   "cell_type": "code",
   "execution_count": 232,
   "id": "eb1c77d9-f4ac-439c-9d44-1448cd14e83f",
   "metadata": {},
   "outputs": [],
   "source": [
    "#It appears the majority of avalanche accidents occur between 11,000 and 12,000 ft which makes sense, that is the majority of the peak elevations \n",
    "#within colorado."
   ]
  },
  {
   "cell_type": "code",
   "execution_count": 233,
   "id": "e1e05cfb-1fd6-4625-883f-935adfcd98c8",
   "metadata": {},
   "outputs": [
    {
     "data": {
      "text/plain": [
       "1700.0"
      ]
     },
     "execution_count": 233,
     "metadata": {},
     "output_type": "execute_result"
    }
   ],
   "source": [
    "#Let me find the < 2000ft outlier. Colorado is generally a minimum of 5280ft so 1700ft doesn't make sense.\n",
    "avalanche_df['Elevation'].min()"
   ]
  },
  {
   "cell_type": "code",
   "execution_count": 234,
   "id": "27bbbfe5-68c4-44b1-950c-57e4771c643f",
   "metadata": {},
   "outputs": [],
   "source": [
    "#Lets drop that row\n",
    "avalanche_df = avalanche_df.drop(avalanche_df['Elevation'].idxmin())"
   ]
  },
  {
   "cell_type": "code",
   "execution_count": 235,
   "id": "e146efbd-8134-407a-9725-8f959a79721e",
   "metadata": {},
   "outputs": [
    {
     "data": {
      "text/plain": [
       "8200.0"
      ]
     },
     "execution_count": 235,
     "metadata": {},
     "output_type": "execute_result"
    }
   ],
   "source": [
    "#Now check our minimum\n",
    "avalanche_df['Elevation'].min()"
   ]
  },
  {
   "cell_type": "code",
   "execution_count": 236,
   "id": "5a6dc8b8-a34d-4dbb-a579-5547fd35c275",
   "metadata": {},
   "outputs": [],
   "source": [
    "#That seems more inline with avalanche elevations"
   ]
  },
  {
   "cell_type": "code",
   "execution_count": 237,
   "id": "97606173-af35-4049-bd70-ae079c9e2709",
   "metadata": {},
   "outputs": [],
   "source": [
    "#I found Elevation API that can extract Elevation from latitude and longitude. I'm going to try to use it:\n",
    "\n",
    "import requests\n",
    "\n",
    "def get_elevation(lat, lon):\n",
    "    url = 'https://api.open-elevation.com/api/v1/lookup'\n",
    "    params = {'locations': f'{lat},{lon}'}\n",
    "    response = requests.get(url, params=params).json()\n",
    "    elevation_meters = response['results'][0]['elevation']\n",
    "    return elevation_meters * 3.28084"
   ]
  },
  {
   "cell_type": "code",
   "execution_count": 238,
   "id": "da6a1323-9df0-443a-a80d-aca9b76d8ea1",
   "metadata": {},
   "outputs": [
    {
     "data": {
      "text/plain": [
       "11630.5778"
      ]
     },
     "execution_count": 238,
     "metadata": {},
     "output_type": "execute_result"
    }
   ],
   "source": [
    "#Lets test it against an elevation we know. I will use row 1. \n",
    "get_elevation(39.682316, -105.930845)"
   ]
  },
  {
   "cell_type": "code",
   "execution_count": 239,
   "id": "956307cb-b273-4f95-a0d2-48e393ce0351",
   "metadata": {},
   "outputs": [
    {
     "data": {
      "text/plain": [
       "11994.75104"
      ]
     },
     "execution_count": 239,
     "metadata": {},
     "output_type": "execute_result"
    }
   ],
   "source": [
    "#It gave us an elevation of 11,630 and our target elevation was 11,600!\n",
    "#lets run it again on another test point to check it\n",
    "get_elevation(38.008880, -107.873070)"
   ]
  },
  {
   "cell_type": "code",
   "execution_count": 240,
   "id": "3d84e4d9-d7ac-4ec3-a62c-bb57e973da87",
   "metadata": {},
   "outputs": [],
   "source": [
    "#Not quite as accurate, it should have been 11,400ft. The free API may not have the highest resolution but it is relatively close\n",
    "#and is also a free api. For the sake of this project is should work."
   ]
  },
  {
   "cell_type": "code",
   "execution_count": 241,
   "id": "0e1244eb-65e0-4d5b-b870-db7cde7c3128",
   "metadata": {},
   "outputs": [],
   "source": [
    "#Lets make a function to fill the 52 missing elevation values. I hope this works with their API\n",
    "def fill_elevation(row):\n",
    "    if np.isnan(row['Elevation']):\n",
    "        return get_elevation(row['Latitude'], row['Longitude'])\n",
    "    else:\n",
    "        return row['Elevation']\n",
    "\n",
    "avalanche_df['Elevation'] = avalanche_df.apply(fill_elevation, axis = 1)\n",
    "        "
   ]
  },
  {
   "cell_type": "code",
   "execution_count": 242,
   "id": "677043cb-26e3-4159-9410-bfbc884ec250",
   "metadata": {},
   "outputs": [
    {
     "data": {
      "text/html": [
       "<div>\n",
       "<style scoped>\n",
       "    .dataframe tbody tr th:only-of-type {\n",
       "        vertical-align: middle;\n",
       "    }\n",
       "\n",
       "    .dataframe tbody tr th {\n",
       "        vertical-align: top;\n",
       "    }\n",
       "\n",
       "    .dataframe thead th {\n",
       "        text-align: right;\n",
       "    }\n",
       "</style>\n",
       "<table border=\"1\" class=\"dataframe\">\n",
       "  <thead>\n",
       "    <tr style=\"text-align: right;\">\n",
       "      <th></th>\n",
       "      <th>Date</th>\n",
       "      <th>Latitude</th>\n",
       "      <th>Longitude</th>\n",
       "      <th>Avalanche Type</th>\n",
       "      <th>Aspect</th>\n",
       "      <th>Elevation</th>\n",
       "      <th>Slope Degree</th>\n",
       "    </tr>\n",
       "  </thead>\n",
       "  <tbody>\n",
       "    <tr>\n",
       "      <th>0</th>\n",
       "      <td>2/20/2018 7:00</td>\n",
       "      <td>38.00888</td>\n",
       "      <td>-107.87307</td>\n",
       "      <td>HS</td>\n",
       "      <td>N</td>\n",
       "      <td>11400.00000</td>\n",
       "      <td>NaN</td>\n",
       "    </tr>\n",
       "    <tr>\n",
       "      <th>4</th>\n",
       "      <td>1/14/2018 19:00</td>\n",
       "      <td>38.68906</td>\n",
       "      <td>-106.35538</td>\n",
       "      <td>SS</td>\n",
       "      <td>NE</td>\n",
       "      <td>11200.00000</td>\n",
       "      <td>35.0</td>\n",
       "    </tr>\n",
       "    <tr>\n",
       "      <th>6</th>\n",
       "      <td>3/12/2010 7:00</td>\n",
       "      <td>38.32872</td>\n",
       "      <td>-106.23696</td>\n",
       "      <td>SS</td>\n",
       "      <td>W</td>\n",
       "      <td>12000.00000</td>\n",
       "      <td>NaN</td>\n",
       "    </tr>\n",
       "    <tr>\n",
       "      <th>7</th>\n",
       "      <td>3/7/2019 7:00</td>\n",
       "      <td>39.49174</td>\n",
       "      <td>-106.11663</td>\n",
       "      <td>HS</td>\n",
       "      <td>W</td>\n",
       "      <td>11900.00000</td>\n",
       "      <td>NaN</td>\n",
       "    </tr>\n",
       "    <tr>\n",
       "      <th>8</th>\n",
       "      <td>11/24/2013 17:30</td>\n",
       "      <td>39.83408</td>\n",
       "      <td>-105.64865</td>\n",
       "      <td>SS</td>\n",
       "      <td>E</td>\n",
       "      <td>11194.22608</td>\n",
       "      <td>NaN</td>\n",
       "    </tr>\n",
       "  </tbody>\n",
       "</table>\n",
       "</div>"
      ],
      "text/plain": [
       "               Date  Latitude  Longitude Avalanche Type Aspect    Elevation  \\\n",
       "0    2/20/2018 7:00  38.00888 -107.87307             HS      N  11400.00000   \n",
       "4   1/14/2018 19:00  38.68906 -106.35538             SS     NE  11200.00000   \n",
       "6    3/12/2010 7:00  38.32872 -106.23696             SS      W  12000.00000   \n",
       "7     3/7/2019 7:00  39.49174 -106.11663             HS      W  11900.00000   \n",
       "8  11/24/2013 17:30  39.83408 -105.64865             SS      E  11194.22608   \n",
       "\n",
       "   Slope Degree  \n",
       "0           NaN  \n",
       "4          35.0  \n",
       "6           NaN  \n",
       "7           NaN  \n",
       "8           NaN  "
      ]
     },
     "execution_count": 242,
     "metadata": {},
     "output_type": "execute_result"
    }
   ],
   "source": [
    "#It looks like it worked, it filled in the missing values\n",
    "avalanche_df.head()"
   ]
  },
  {
   "cell_type": "code",
   "execution_count": 243,
   "id": "c8c08a0b-bd9f-422e-9c35-7e43b461c261",
   "metadata": {},
   "outputs": [
    {
     "data": {
      "text/plain": [
       "<Axes: >"
      ]
     },
     "execution_count": 243,
     "metadata": {},
     "output_type": "execute_result"
    },
    {
     "data": {
      "image/png": "[encoded data removed]",
      "text/plain": [
       "<Figure size 640x480 with 1 Axes>"
      ]
     },
     "metadata": {},
     "output_type": "display_data"
    }
   ],
   "source": [
    "#Lets check\n",
    "sns.heatmap(avalanche_df.isnull(), yticklabels = False, cbar = False, cmap = 'viridis')"
   ]
  },
  {
   "cell_type": "code",
   "execution_count": 244,
   "id": "2586f2e0-2b19-444a-93d5-b8bca8d5d410",
   "metadata": {},
   "outputs": [
    {
     "data": {
      "text/plain": [
       "<Axes: ylabel='Elevation'>"
      ]
     },
     "execution_count": 244,
     "metadata": {},
     "output_type": "execute_result"
    },
    {
     "data": {
      "image/png": "[encoded data removed]",
      "text/plain": [
       "<Figure size 640x480 with 1 Axes>"
      ]
     },
     "metadata": {},
     "output_type": "display_data"
    }
   ],
   "source": [
    "#And then lets check that it actually filled them in and kept our distribution\n",
    "sns.boxplot(avalanche_df, y = 'Elevation')"
   ]
  },
  {
   "cell_type": "code",
   "execution_count": 245,
   "id": "cdbda199-0676-4830-8a7b-ef141bce6751",
   "metadata": {},
   "outputs": [],
   "source": [
    "#Great, now the last thing to do with the elevation column is set it's data type to integer\n",
    "avalanche_df['Elevation'] = avalanche_df['Elevation'].astype(int)"
   ]
  },
  {
   "cell_type": "code",
   "execution_count": 246,
   "id": "fd9242c8-1461-451a-b8a2-a50d7b45a583",
   "metadata": {},
   "outputs": [
    {
     "name": "stdout",
     "output_type": "stream",
     "text": [
      "355.0\n"
     ]
    }
   ],
   "source": [
    "#We have a lot of missing Slope Degree data. Slope degree is critical to the probability of an avalanche occurring and what type of avalanche\n",
    "#may occur so we need to keep this row if we can. \n",
    "#I made detailed notes in my log about this, but most avalanches occur between 30 and 45 degrees according to online sources. Let's\n",
    "#visualize the avalanche slope degrees and see where they are most commonly occuring in our data set.\n",
    "\n",
    "#It looks like the maximum value of the column is an incorrectly entered slope degree. This was likely meant to be 35 degrees. I am\n",
    "#going to set it to 35.\n",
    "print(avalanche_df['Slope Degree'].dropna().max())"
   ]
  },
  {
   "cell_type": "code",
   "execution_count": 247,
   "id": "e6b12c63-17dd-4c36-920e-6a3007e2c5cf",
   "metadata": {},
   "outputs": [],
   "source": [
    "avalanche_df.loc[avalanche_df['Slope Degree'] == 355.0, 'Slope Degree'] = 35.0"
   ]
  },
  {
   "cell_type": "code",
   "execution_count": 248,
   "id": "71b0ff3f-a1c4-4771-b670-882ecf808245",
   "metadata": {},
   "outputs": [
    {
     "name": "stdout",
     "output_type": "stream",
     "text": [
      "50.0\n"
     ]
    }
   ],
   "source": [
    "print(avalanche_df['Slope Degree'].dropna().max())"
   ]
  },
  {
   "cell_type": "code",
   "execution_count": 249,
   "id": "afff02a6-a5c2-48dc-ac6f-97a4b213cfac",
   "metadata": {},
   "outputs": [],
   "source": [
    "#Great that is a much more reasonable maximum and lies within the range my research showed would be a reasonable max avalanche slope."
   ]
  },
  {
   "cell_type": "code",
   "execution_count": 250,
   "id": "f35fbcdd-da8f-4aa4-9799-b04d3d4e0d4d",
   "metadata": {},
   "outputs": [
    {
     "data": {
      "image/png": "[encoded data removed]",
      "text/plain": [
       "<Figure size 640x480 with 1 Axes>"
      ]
     },
     "metadata": {},
     "output_type": "display_data"
    }
   ],
   "source": [
    "#Ok so now I'll make the bins to visualize where most common avalanches are occuring.\n",
    "\n",
    "maximum_slope_degree = int(avalanche_df['Slope Degree'].dropna().max())\n",
    "\n",
    "bins = range(0, maximum_slope_degree + 5, 5) #Create bins in groups of 5 degrees to see where the most avalanches occur.\n",
    "labels = [f\"{d}-{d+4}\" for d in bins[:-1]] #Make labels for each of the bins giving a range of degrees in 5 degree increments\n",
    "bin_df = pd.DataFrame() #I chose to make a separate data frame for this visualization\n",
    "bin_df['Slope Bin'] = pd.cut(avalanche_df['Slope Degree'].dropna(), bins = bins, labels = labels, right = False) \n",
    "\n",
    "bin_counts = bin_df['Slope Bin'].value_counts().sort_index()\n",
    "bin_counts.plot(kind='bar', color='skyblue')\n",
    "plt.xlabel('Slope Degree Range')\n",
    "plt.ylabel('Number of Accidents')\n",
    "plt.title('Avalanche Accident Frequency by Slope (Colorado)', fontweight = 'bold')\n",
    "plt.xticks(rotation=45)\n",
    "plt.show()"
   ]
  },
  {
   "cell_type": "code",
   "execution_count": 251,
   "id": "07eee12a-223e-47e8-92d3-aff95fc674f3",
   "metadata": {},
   "outputs": [
    {
     "data": {
      "text/plain": [
       "Slope Bin\n",
       "0-4       0.00\n",
       "5-9       0.00\n",
       "10-14     0.00\n",
       "15-19     0.00\n",
       "20-24     0.00\n",
       "25-29     1.16\n",
       "30-34     9.88\n",
       "35-39    52.33\n",
       "40-44    25.00\n",
       "45-49    11.63\n",
       "Name: count, dtype: float64"
      ]
     },
     "execution_count": 251,
     "metadata": {},
     "output_type": "execute_result"
    }
   ],
   "source": [
    "#Next let's look at what percent of the data each slope degree bin contributes to. I think this could be used\n",
    "#To make a weighted distribution for filling in missing values\n",
    "bin_percentages = (bin_counts / bin_counts.sum()) *100\n",
    "bin_percentages.round(2)"
   ]
  },
  {
   "cell_type": "code",
   "execution_count": 252,
   "id": "84d15eee-1a2b-44cd-9bf7-92b2c8d9f0b0",
   "metadata": {},
   "outputs": [
    {
     "data": {
      "text/plain": [
       "Slope Bin\n",
       "25-29    0.011628\n",
       "30-34    0.098837\n",
       "35-39    0.523256\n",
       "40-44    0.250000\n",
       "45-49    0.116279\n",
       "Name: count, dtype: float64"
      ]
     },
     "execution_count": 252,
     "metadata": {},
     "output_type": "execute_result"
    }
   ],
   "source": [
    "#So what I'll do is create weights from these numbers and also drop any that are 0\n",
    "bin_weights = bin_percentages / 100\n",
    "actual_bins = bin_weights[bin_weights > 0] \n",
    "actual_bins"
   ]
  },
  {
   "cell_type": "code",
   "execution_count": 253,
   "id": "d984ddd7-3062-483f-af2a-0f7cc7930b93",
   "metadata": {},
   "outputs": [],
   "source": [
    "#Alright! Looks like that should work.\n",
    "\n",
    "\n",
    "#Map the bin labels to numeric range\n",
    "bin_ranges = {\n",
    "    '25-29' : (25,29),\n",
    "    '30-34' : (30, 34),\n",
    "    '35-39' : (35, 39),\n",
    "    '40-44' : (40, 44),\n",
    "    '45-49' : (45, 49)\n",
    "}\n",
    "\n",
    "def fill_slope_from_bins(n):\n",
    "    \n",
    "    #Make a list of bin labels\n",
    "    bins = actual_bins.index.tolist() \n",
    "\n",
    "    #Get the probability associated with each bin\n",
    "    degree_probs = actual_bins.values\n",
    "\n",
    "    #Randomly select n bin labels given the probability of each bin\n",
    "    selected_bins = np.random.choice(bins, size = n, p = degree_probs)\n",
    "\n",
    "    #Then for each bin label, draw a random slope degree within that bins range \n",
    "    return [\n",
    "        np.random.uniform(*bin_ranges[bin_label]) #Unpacks the bin range tuple and get a random slope degree within that bin range\n",
    "        for bin_label in selected_bins\n",
    "    ]\n",
    "\n",
    "missing_index = avalanche_df['Slope Degree'].isnull()\n",
    "avalanche_df.loc[missing_index, 'Slope Degree'] = fill_slope_from_bins(missing_index.sum())"
   ]
  },
  {
   "cell_type": "code",
   "execution_count": 254,
   "id": "5f32199d-7812-4054-9f4d-fd068bc941ac",
   "metadata": {},
   "outputs": [
    {
     "data": {
      "text/html": [
       "<div>\n",
       "<style scoped>\n",
       "    .dataframe tbody tr th:only-of-type {\n",
       "        vertical-align: middle;\n",
       "    }\n",
       "\n",
       "    .dataframe tbody tr th {\n",
       "        vertical-align: top;\n",
       "    }\n",
       "\n",
       "    .dataframe thead th {\n",
       "        text-align: right;\n",
       "    }\n",
       "</style>\n",
       "<table border=\"1\" class=\"dataframe\">\n",
       "  <thead>\n",
       "    <tr style=\"text-align: right;\">\n",
       "      <th></th>\n",
       "      <th>Date</th>\n",
       "      <th>Latitude</th>\n",
       "      <th>Longitude</th>\n",
       "      <th>Avalanche Type</th>\n",
       "      <th>Aspect</th>\n",
       "      <th>Elevation</th>\n",
       "      <th>Slope Degree</th>\n",
       "    </tr>\n",
       "  </thead>\n",
       "  <tbody>\n",
       "  </tbody>\n",
       "</table>\n",
       "</div>"
      ],
      "text/plain": [
       "Empty DataFrame\n",
       "Columns: [Date, Latitude, Longitude, Avalanche Type, Aspect, Elevation, Slope Degree]\n",
       "Index: []"
      ]
     },
     "execution_count": 254,
     "metadata": {},
     "output_type": "execute_result"
    }
   ],
   "source": [
    "#I'm going to check and see if we have any null values still.\n",
    "avalanche_df[avalanche_df['Slope Degree'].isnull()]"
   ]
  },
  {
   "cell_type": "code",
   "execution_count": 255,
   "id": "28c2ef5f-191b-470e-8beb-f6499927e91d",
   "metadata": {},
   "outputs": [
    {
     "data": {
      "image/png": "[encoded data removed]",
      "text/plain": [
       "<Figure size 640x480 with 1 Axes>"
      ]
     },
     "metadata": {},
     "output_type": "display_data"
    }
   ],
   "source": [
    "#So now we can look visualize the slope degree distirbution again with a bar plot and make sure we visually follow the \n",
    "#same distribution\n",
    "\n",
    "maximum_slope_degree = int(avalanche_df['Slope Degree'].max())\n",
    "\n",
    "bins = range(0, maximum_slope_degree + 5, 5)\n",
    "labels = [f\"{d}-{d+4}\" for d in bins[:-1]]\n",
    "\n",
    "bin_df_imputed = pd.DataFrame()\n",
    "bin_df_imputed['Slope Bin'] = pd.cut(avalanche_df['Slope Degree'], bins = bins, labels = labels, right = False) \n",
    "bin_counts_imputed = bin_df_imputed['Slope Bin'].value_counts().sort_index()\n",
    "\n",
    "bin_counts_imputed.plot(kind='bar', color='mediumseagreen')\n",
    "plt.xlabel('Slope Degree Range with Imputation')\n",
    "plt.ylabel('Number of Accidents')\n",
    "plt.title('Avalanche Accident Frequency by Slope (Colorado)', fontweight = 'bold')\n",
    "plt.xticks(rotation=45)\n",
    "plt.show()"
   ]
  },
  {
   "cell_type": "code",
   "execution_count": 256,
   "id": "b61a228c-1f71-4568-9c61-3db30fd7e1e6",
   "metadata": {},
   "outputs": [],
   "source": [
    "#It looks like we kept the overall shape but with much more data points and now we have no missing slope degree values"
   ]
  },
  {
   "cell_type": "code",
   "execution_count": 257,
   "id": "a5c925d6-fe8b-417e-9ead-65d7ce5d7eb2",
   "metadata": {},
   "outputs": [
    {
     "data": {
      "image/png": "[encoded data removed]",
      "text/plain": [
       "<Figure size 1400x500 with 2 Axes>"
      ]
     },
     "metadata": {},
     "output_type": "display_data"
    }
   ],
   "source": [
    "#Lets look at them side by side!\n",
    "fig, axes = plt.subplots(1, 2, figsize=(14, 5), sharey=True)\n",
    "\n",
    "#Plot the before imputation\n",
    "axes[0].bar(labels, bin_counts.values, color='skyblue')\n",
    "axes[0].set_title('Before Imputation', fontweight='bold')\n",
    "axes[0].set_xlabel('Slope Degree Range')\n",
    "axes[0].set_ylabel('Number of Accidents')\n",
    "axes[0].tick_params(axis='x', rotation=45)\n",
    "\n",
    "#Plot the after imputation \n",
    "axes[1].bar(labels, bin_counts_imputed.values, color='mediumseagreen')\n",
    "axes[1].set_title('After Imputation', fontweight='bold')\n",
    "axes[1].set_xlabel('Slope Degree Range')\n",
    "axes[1].tick_params(axis='x', rotation=45)\n",
    "\n",
    "plt.tight_layout()\n",
    "plt.show()"
   ]
  },
  {
   "cell_type": "code",
   "execution_count": null,
   "id": "dfa41dbf-6f89-4f04-9366-1a8a79ea7ce5",
   "metadata": {},
   "outputs": [],
   "source": [
    "#This is great, we've kept the same distribution of the data but increased our usable data significantly!"
   ]
  },
  {
   "cell_type": "code",
   "execution_count": 258,
   "id": "5a912f71-e233-4991-a46d-304d077134a2",
   "metadata": {},
   "outputs": [
    {
     "data": {
      "text/plain": [
       "<Axes: >"
      ]
     },
     "execution_count": 258,
     "metadata": {},
     "output_type": "execute_result"
    },
    {
     "data": {
      "image/png": "[encoded data removed]",
      "text/plain": [
       "<Figure size 640x480 with 1 Axes>"
      ]
     },
     "metadata": {},
     "output_type": "display_data"
    }
   ],
   "source": [
    "#Lets check where we're at on missing data\n",
    "sns.heatmap(avalanche_df.isnull(), yticklabels = False, cbar = False, cmap = 'viridis')"
   ]
  },
  {
   "cell_type": "code",
   "execution_count": null,
   "id": "22be6ef9-d055-4460-b57b-1c4dba30a3ac",
   "metadata": {},
   "outputs": [],
   "source": []
  }
 ],
 "metadata": {
  "kernelspec": {
   "display_name": "Python 3 (ipykernel)",
   "language": "python",
   "name": "python3"
  },
  "language_info": {
   "codemirror_mode": {
    "name": "ipython",
    "version": 3
   },
   "file_extension": ".py",
   "mimetype": "text/x-python",
   "name": "python",
   "nbconvert_exporter": "python",
   "pygments_lexer": "ipython3",
   "version": "3.12.7"
  }
 },
 "nbformat": 4,
 "nbformat_minor": 5
}
