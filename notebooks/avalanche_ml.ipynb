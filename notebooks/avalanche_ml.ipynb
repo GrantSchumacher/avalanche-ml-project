{
 "cells": [
  {
   "cell_type": "code",
   "execution_count": 2,
   "id": "30ec5d5e-66bd-45e2-9777-8ffa4d3ea6a1",
   "metadata": {},
   "outputs": [],
   "source": [
    "import pandas as pd\n",
    "import matplotlib.pyplot as plt\n",
    "import seaborn as sns\n",
    "import numpy as np"
   ]
  },
  {
   "cell_type": "code",
   "execution_count": 7,
   "id": "c466c72e-b7ce-4d94-8a68-d886103499b3",
   "metadata": {},
   "outputs": [],
   "source": [
    "data = pd.read_csv('accidents.csv', header = None)"
   ]
  },
  {
   "cell_type": "code",
   "execution_count": 8,
   "id": "f62c2709-6bae-484b-91e7-05f0ce163b22",
   "metadata": {},
   "outputs": [
    {
     "data": {
      "text/html": [
       "<div>\n",
       "<style scoped>\n",
       "    .dataframe tbody tr th:only-of-type {\n",
       "        vertical-align: middle;\n",
       "    }\n",
       "\n",
       "    .dataframe tbody tr th {\n",
       "        vertical-align: top;\n",
       "    }\n",
       "\n",
       "    .dataframe thead th {\n",
       "        text-align: right;\n",
       "    }\n",
       "</style>\n",
       "<table border=\"1\" class=\"dataframe\">\n",
       "  <thead>\n",
       "    <tr style=\"text-align: right;\">\n",
       "      <th></th>\n",
       "      <th>0</th>\n",
       "      <th>1</th>\n",
       "      <th>2</th>\n",
       "      <th>3</th>\n",
       "      <th>4</th>\n",
       "      <th>5</th>\n",
       "      <th>6</th>\n",
       "      <th>7</th>\n",
       "      <th>8</th>\n",
       "      <th>9</th>\n",
       "      <th>...</th>\n",
       "      <th>79</th>\n",
       "      <th>80</th>\n",
       "      <th>81</th>\n",
       "      <th>82</th>\n",
       "      <th>83</th>\n",
       "      <th>84</th>\n",
       "      <th>85</th>\n",
       "      <th>86</th>\n",
       "      <th>87</th>\n",
       "      <th>88</th>\n",
       "    </tr>\n",
       "  </thead>\n",
       "  <tbody>\n",
       "    <tr>\n",
       "      <th>0</th>\n",
       "      <td>56a72710-563d-410e-a744-468d2421092e</td>\n",
       "      <td>Forecaster, CAIC</td>\n",
       "      <td>2/20/2018 7:00</td>\n",
       "      <td>Known</td>\n",
       "      <td>Estimated</td>\n",
       "      <td>38.008880</td>\n",
       "      <td>-107.873070</td>\n",
       "      <td>NaN</td>\n",
       "      <td>NaN</td>\n",
       "      <td>NaN</td>\n",
       "      <td>...</td>\n",
       "      <td>NaN</td>\n",
       "      <td>NaN</td>\n",
       "      <td>NaN</td>\n",
       "      <td>NaN</td>\n",
       "      <td>NaN</td>\n",
       "      <td>NaN</td>\n",
       "      <td>NaN</td>\n",
       "      <td>NaN</td>\n",
       "      <td>NaN</td>\n",
       "      <td>{\"Convex Slope\"}</td>\n",
       "    </tr>\n",
       "    <tr>\n",
       "      <th>1</th>\n",
       "      <td>6e872258-f60c-47bb-b6eb-484cc0fe3e89</td>\n",
       "      <td>Forecaster, CAIC</td>\n",
       "      <td>12/19/2024 19:00</td>\n",
       "      <td>Estimated</td>\n",
       "      <td>Unknown</td>\n",
       "      <td>39.682316</td>\n",
       "      <td>-105.930845</td>\n",
       "      <td>f</td>\n",
       "      <td>f</td>\n",
       "      <td>t</td>\n",
       "      <td>...</td>\n",
       "      <td>{}</td>\n",
       "      <td>NaN</td>\n",
       "      <td>NaN</td>\n",
       "      <td>NaN</td>\n",
       "      <td>NaN</td>\n",
       "      <td>NaN</td>\n",
       "      <td>NaN</td>\n",
       "      <td>NaN</td>\n",
       "      <td>NaN</td>\n",
       "      <td>{}</td>\n",
       "    </tr>\n",
       "    <tr>\n",
       "      <th>2</th>\n",
       "      <td>22315e1b-b4cf-4de4-9c1b-9a3d124db2d4</td>\n",
       "      <td>Forecaster, CAIC</td>\n",
       "      <td>1/22/2012 19:00</td>\n",
       "      <td>Known</td>\n",
       "      <td>Unknown</td>\n",
       "      <td>40.506490</td>\n",
       "      <td>-105.886230</td>\n",
       "      <td>f</td>\n",
       "      <td>f</td>\n",
       "      <td>t</td>\n",
       "      <td>...</td>\n",
       "      <td>{}</td>\n",
       "      <td>NaN</td>\n",
       "      <td>NaN</td>\n",
       "      <td>NaN</td>\n",
       "      <td>NaN</td>\n",
       "      <td>NaN</td>\n",
       "      <td>NaN</td>\n",
       "      <td>NaN</td>\n",
       "      <td>NaN</td>\n",
       "      <td>{}</td>\n",
       "    </tr>\n",
       "    <tr>\n",
       "      <th>3</th>\n",
       "      <td>4cc8fd48-c67f-40c3-963f-1c3bbed8676b</td>\n",
       "      <td>Forecaster, CAIC</td>\n",
       "      <td>1/22/2012 7:00</td>\n",
       "      <td>Known</td>\n",
       "      <td>Unknown</td>\n",
       "      <td>39.886920</td>\n",
       "      <td>-105.760660</td>\n",
       "      <td>NaN</td>\n",
       "      <td>NaN</td>\n",
       "      <td>NaN</td>\n",
       "      <td>...</td>\n",
       "      <td>NaN</td>\n",
       "      <td>NaN</td>\n",
       "      <td>NaN</td>\n",
       "      <td>NaN</td>\n",
       "      <td>NaN</td>\n",
       "      <td>NaN</td>\n",
       "      <td>NaN</td>\n",
       "      <td>NaN</td>\n",
       "      <td>NaN</td>\n",
       "      <td>NaN</td>\n",
       "    </tr>\n",
       "    <tr>\n",
       "      <th>4</th>\n",
       "      <td>50f496f8-21d1-4a6f-a250-8b7c821810c1</td>\n",
       "      <td>Forecaster, CAIC</td>\n",
       "      <td>1/14/2018 19:00</td>\n",
       "      <td>Known</td>\n",
       "      <td>Unknown</td>\n",
       "      <td>38.689060</td>\n",
       "      <td>-106.355380</td>\n",
       "      <td>f</td>\n",
       "      <td>f</td>\n",
       "      <td>t</td>\n",
       "      <td>...</td>\n",
       "      <td>{}</td>\n",
       "      <td>NaN</td>\n",
       "      <td>NaN</td>\n",
       "      <td>NaN</td>\n",
       "      <td>NaN</td>\n",
       "      <td>NaN</td>\n",
       "      <td>NaN</td>\n",
       "      <td>NaN</td>\n",
       "      <td>NaN</td>\n",
       "      <td>{}</td>\n",
       "    </tr>\n",
       "  </tbody>\n",
       "</table>\n",
       "<p>5 rows × 89 columns</p>\n",
       "</div>"
      ],
      "text/plain": [
       "                                     0                 1                 2   \\\n",
       "0  56a72710-563d-410e-a744-468d2421092e  Forecaster, CAIC    2/20/2018 7:00   \n",
       "1  6e872258-f60c-47bb-b6eb-484cc0fe3e89  Forecaster, CAIC  12/19/2024 19:00   \n",
       "2  22315e1b-b4cf-4de4-9c1b-9a3d124db2d4  Forecaster, CAIC   1/22/2012 19:00   \n",
       "3  4cc8fd48-c67f-40c3-963f-1c3bbed8676b  Forecaster, CAIC    1/22/2012 7:00   \n",
       "4  50f496f8-21d1-4a6f-a250-8b7c821810c1  Forecaster, CAIC   1/14/2018 19:00   \n",
       "\n",
       "          3          4          5           6    7    8    9   ...   79  80  \\\n",
       "0      Known  Estimated  38.008880 -107.873070  NaN  NaN  NaN  ...  NaN NaN   \n",
       "1  Estimated    Unknown  39.682316 -105.930845    f    f    t  ...   {} NaN   \n",
       "2      Known    Unknown  40.506490 -105.886230    f    f    t  ...   {} NaN   \n",
       "3      Known    Unknown  39.886920 -105.760660  NaN  NaN  NaN  ...  NaN NaN   \n",
       "4      Known    Unknown  38.689060 -106.355380    f    f    t  ...   {} NaN   \n",
       "\n",
       "   81   82   83  84  85   86   87                88  \n",
       "0 NaN  NaN  NaN NaN NaN  NaN  NaN  {\"Convex Slope\"}  \n",
       "1 NaN  NaN  NaN NaN NaN  NaN  NaN                {}  \n",
       "2 NaN  NaN  NaN NaN NaN  NaN  NaN                {}  \n",
       "3 NaN  NaN  NaN NaN NaN  NaN  NaN               NaN  \n",
       "4 NaN  NaN  NaN NaN NaN  NaN  NaN                {}  \n",
       "\n",
       "[5 rows x 89 columns]"
      ]
     },
     "execution_count": 8,
     "metadata": {},
     "output_type": "execute_result"
    }
   ],
   "source": [
    "data.head()"
   ]
  },
  {
   "cell_type": "code",
   "execution_count": 11,
   "id": "abe486d6-a0b8-4b2c-a707-c62cbe06548f",
   "metadata": {},
   "outputs": [
    {
     "name": "stdout",
     "output_type": "stream",
     "text": [
      "<class 'pandas.core.frame.DataFrame'>\n",
      "RangeIndex: 308 entries, 0 to 307\n",
      "Data columns (total 89 columns):\n",
      " #   Column  Non-Null Count  Dtype  \n",
      "---  ------  --------------  -----  \n",
      " 0   0       308 non-null    object \n",
      " 1   1       296 non-null    object \n",
      " 2   2       308 non-null    object \n",
      " 3   3       308 non-null    object \n",
      " 4   4       294 non-null    object \n",
      " 5   5       308 non-null    float64\n",
      " 6   6       308 non-null    float64\n",
      " 7   7       42 non-null     object \n",
      " 8   8       42 non-null     object \n",
      " 9   9       42 non-null     object \n",
      " 10  10      308 non-null    object \n",
      " 11  11      200 non-null    object \n",
      " 12  12      109 non-null    object \n",
      " 13  13      308 non-null    object \n",
      " 14  14      308 non-null    int64  \n",
      " 15  15      199 non-null    object \n",
      " 16  16      213 non-null    object \n",
      " 17  17      308 non-null    object \n",
      " 18  18      20 non-null     float64\n",
      " 19  19      256 non-null    object \n",
      " 20  20      285 non-null    object \n",
      " 21  21      12 non-null     object \n",
      " 22  22      252 non-null    object \n",
      " 23  23      256 non-null    object \n",
      " 24  24      271 non-null    object \n",
      " 25  25      238 non-null    object \n",
      " 26  26      0 non-null      float64\n",
      " 27  27      1 non-null      object \n",
      " 28  28      5 non-null      float64\n",
      " 29  29      0 non-null      float64\n",
      " 30  30      275 non-null    float64\n",
      " 31  31      250 non-null    object \n",
      " 32  32      122 non-null    object \n",
      " 33  33      0 non-null      float64\n",
      " 34  34      183 non-null    float64\n",
      " 35  35      116 non-null    float64\n",
      " 36  36      218 non-null    object \n",
      " 37  37      187 non-null    float64\n",
      " 38  38      70 non-null     float64\n",
      " 39  39      219 non-null    object \n",
      " 40  40      183 non-null    float64\n",
      " 41  41      74 non-null     float64\n",
      " 42  42      220 non-null    object \n",
      " 43  43      221 non-null    float64\n",
      " 44  44      221 non-null    float64\n",
      " 45  45      10 non-null     object \n",
      " 46  46      193 non-null    float64\n",
      " 47  47      182 non-null    object \n",
      " 48  48      114 non-null    object \n",
      " 49  49      115 non-null    object \n",
      " 50  50      12 non-null     object \n",
      " 51  51      104 non-null    object \n",
      " 52  52      84 non-null     float64\n",
      " 53  53      84 non-null     object \n",
      " 54  54      110 non-null    object \n",
      " 55  55      6 non-null      object \n",
      " 56  56      116 non-null    object \n",
      " 57  57      89 non-null     float64\n",
      " 58  58      84 non-null     float64\n",
      " 59  59      82 non-null     object \n",
      " 60  60      8 non-null      object \n",
      " 61  61      74 non-null     object \n",
      " 62  62      46 non-null     float64\n",
      " 63  63      146 non-null    float64\n",
      " 64  64      308 non-null    object \n",
      " 65  65      123 non-null    float64\n",
      " 66  66      98 non-null     float64\n",
      " 67  67      134 non-null    float64\n",
      " 68  68      86 non-null     float64\n",
      " 69  69      110 non-null    object \n",
      " 70  70      119 non-null    object \n",
      " 71  71      64 non-null     object \n",
      " 72  72      93 non-null     float64\n",
      " 73  73      100 non-null    float64\n",
      " 74  74      89 non-null     object \n",
      " 75  75      88 non-null     object \n",
      " 76  76      116 non-null    float64\n",
      " 77  77      308 non-null    object \n",
      " 78  78      1 non-null      float64\n",
      " 79  79      238 non-null    object \n",
      " 80  80      70 non-null     float64\n",
      " 81  81      85 non-null     float64\n",
      " 82  82      71 non-null     object \n",
      " 83  83      79 non-null     object \n",
      " 84  84      84 non-null     float64\n",
      " 85  85      20 non-null     float64\n",
      " 86  86      121 non-null    object \n",
      " 87  87      101 non-null    object \n",
      " 88  88      288 non-null    object \n",
      "dtypes: float64(34), int64(1), object(54)\n",
      "memory usage: 214.3+ KB\n"
     ]
    }
   ],
   "source": [
    "data.info()"
   ]
  },
  {
   "cell_type": "code",
   "execution_count": 21,
   "id": "7e3658ec-f225-42a3-bc46-d4f6e36ad5b2",
   "metadata": {},
   "outputs": [
    {
     "data": {
      "text/html": [
       "<div>\n",
       "<style scoped>\n",
       "    .dataframe tbody tr th:only-of-type {\n",
       "        vertical-align: middle;\n",
       "    }\n",
       "\n",
       "    .dataframe tbody tr th {\n",
       "        vertical-align: top;\n",
       "    }\n",
       "\n",
       "    .dataframe thead th {\n",
       "        text-align: right;\n",
       "    }\n",
       "</style>\n",
       "<table border=\"1\" class=\"dataframe\">\n",
       "  <thead>\n",
       "    <tr style=\"text-align: right;\">\n",
       "      <th></th>\n",
       "      <th>2</th>\n",
       "      <th>5</th>\n",
       "      <th>6</th>\n",
       "      <th>19</th>\n",
       "      <th>20</th>\n",
       "      <th>30</th>\n",
       "      <th>46</th>\n",
       "    </tr>\n",
       "  </thead>\n",
       "  <tbody>\n",
       "    <tr>\n",
       "      <th>0</th>\n",
       "      <td>2/20/2018 7:00</td>\n",
       "      <td>38.008880</td>\n",
       "      <td>-107.873070</td>\n",
       "      <td>HS</td>\n",
       "      <td>N</td>\n",
       "      <td>11400.0</td>\n",
       "      <td>NaN</td>\n",
       "    </tr>\n",
       "    <tr>\n",
       "      <th>1</th>\n",
       "      <td>12/19/2024 19:00</td>\n",
       "      <td>39.682316</td>\n",
       "      <td>-105.930845</td>\n",
       "      <td>NaN</td>\n",
       "      <td>W</td>\n",
       "      <td>11600.0</td>\n",
       "      <td>NaN</td>\n",
       "    </tr>\n",
       "    <tr>\n",
       "      <th>2</th>\n",
       "      <td>1/22/2012 19:00</td>\n",
       "      <td>40.506490</td>\n",
       "      <td>-105.886230</td>\n",
       "      <td>NaN</td>\n",
       "      <td>NaN</td>\n",
       "      <td>NaN</td>\n",
       "      <td>NaN</td>\n",
       "    </tr>\n",
       "    <tr>\n",
       "      <th>3</th>\n",
       "      <td>1/22/2012 7:00</td>\n",
       "      <td>39.886920</td>\n",
       "      <td>-105.760660</td>\n",
       "      <td>NaN</td>\n",
       "      <td>N</td>\n",
       "      <td>10400.0</td>\n",
       "      <td>NaN</td>\n",
       "    </tr>\n",
       "    <tr>\n",
       "      <th>4</th>\n",
       "      <td>1/14/2018 19:00</td>\n",
       "      <td>38.689060</td>\n",
       "      <td>-106.355380</td>\n",
       "      <td>SS</td>\n",
       "      <td>NE</td>\n",
       "      <td>11200.0</td>\n",
       "      <td>35.0</td>\n",
       "    </tr>\n",
       "  </tbody>\n",
       "</table>\n",
       "</div>"
      ],
      "text/plain": [
       "                 2          5           6    19   20       30    46\n",
       "0    2/20/2018 7:00  38.008880 -107.873070   HS    N  11400.0   NaN\n",
       "1  12/19/2024 19:00  39.682316 -105.930845  NaN    W  11600.0   NaN\n",
       "2   1/22/2012 19:00  40.506490 -105.886230  NaN  NaN      NaN   NaN\n",
       "3    1/22/2012 7:00  39.886920 -105.760660  NaN    N  10400.0   NaN\n",
       "4   1/14/2018 19:00  38.689060 -106.355380   SS   NE  11200.0  35.0"
      ]
     },
     "execution_count": 21,
     "metadata": {},
     "output_type": "execute_result"
    }
   ],
   "source": [
    "#I used excel to identify the columns worth keeping, then converted their column letters into array positions\n",
    "#I will keep these columns\n",
    "cols_to_keep = [2, 5, 6, 19, 20, 30, 46]\n",
    "\n",
    "avalanche_df = data[cols_to_keep]\n",
    "\n",
    "#Now we should have the unique accident ID, date, latitude, longitude, avalanche type, aspect, elevation, and slope degree\n",
    "avalanche_df.head()"
   ]
  },
  {
   "cell_type": "code",
   "execution_count": 22,
   "id": "ed426052-b4c4-4799-95dd-c1ffaa9949aa",
   "metadata": {},
   "outputs": [],
   "source": [
    "#Now I'll name the columns that we want to keep\n",
    "avalanche_df.columns = ['Date','Latitude','Longitude','Avalanche Type','Aspect','Elevation','Slope Degree']"
   ]
  },
  {
   "cell_type": "code",
   "execution_count": 23,
   "id": "1a132129-6b16-45d0-92ec-611ce37d72a0",
   "metadata": {},
   "outputs": [
    {
     "data": {
      "text/html": [
       "<div>\n",
       "<style scoped>\n",
       "    .dataframe tbody tr th:only-of-type {\n",
       "        vertical-align: middle;\n",
       "    }\n",
       "\n",
       "    .dataframe tbody tr th {\n",
       "        vertical-align: top;\n",
       "    }\n",
       "\n",
       "    .dataframe thead th {\n",
       "        text-align: right;\n",
       "    }\n",
       "</style>\n",
       "<table border=\"1\" class=\"dataframe\">\n",
       "  <thead>\n",
       "    <tr style=\"text-align: right;\">\n",
       "      <th></th>\n",
       "      <th>Date</th>\n",
       "      <th>Latitude</th>\n",
       "      <th>Longitude</th>\n",
       "      <th>Avalanche Type</th>\n",
       "      <th>Aspect</th>\n",
       "      <th>Elevation</th>\n",
       "      <th>Slope Degree</th>\n",
       "    </tr>\n",
       "  </thead>\n",
       "  <tbody>\n",
       "    <tr>\n",
       "      <th>0</th>\n",
       "      <td>2/20/2018 7:00</td>\n",
       "      <td>38.008880</td>\n",
       "      <td>-107.873070</td>\n",
       "      <td>HS</td>\n",
       "      <td>N</td>\n",
       "      <td>11400.0</td>\n",
       "      <td>NaN</td>\n",
       "    </tr>\n",
       "    <tr>\n",
       "      <th>1</th>\n",
       "      <td>12/19/2024 19:00</td>\n",
       "      <td>39.682316</td>\n",
       "      <td>-105.930845</td>\n",
       "      <td>NaN</td>\n",
       "      <td>W</td>\n",
       "      <td>11600.0</td>\n",
       "      <td>NaN</td>\n",
       "    </tr>\n",
       "    <tr>\n",
       "      <th>2</th>\n",
       "      <td>1/22/2012 19:00</td>\n",
       "      <td>40.506490</td>\n",
       "      <td>-105.886230</td>\n",
       "      <td>NaN</td>\n",
       "      <td>NaN</td>\n",
       "      <td>NaN</td>\n",
       "      <td>NaN</td>\n",
       "    </tr>\n",
       "    <tr>\n",
       "      <th>3</th>\n",
       "      <td>1/22/2012 7:00</td>\n",
       "      <td>39.886920</td>\n",
       "      <td>-105.760660</td>\n",
       "      <td>NaN</td>\n",
       "      <td>N</td>\n",
       "      <td>10400.0</td>\n",
       "      <td>NaN</td>\n",
       "    </tr>\n",
       "    <tr>\n",
       "      <th>4</th>\n",
       "      <td>1/14/2018 19:00</td>\n",
       "      <td>38.689060</td>\n",
       "      <td>-106.355380</td>\n",
       "      <td>SS</td>\n",
       "      <td>NE</td>\n",
       "      <td>11200.0</td>\n",
       "      <td>35.0</td>\n",
       "    </tr>\n",
       "  </tbody>\n",
       "</table>\n",
       "</div>"
      ],
      "text/plain": [
       "               Date   Latitude   Longitude Avalanche Type Aspect  Elevation  \\\n",
       "0    2/20/2018 7:00  38.008880 -107.873070             HS      N    11400.0   \n",
       "1  12/19/2024 19:00  39.682316 -105.930845            NaN      W    11600.0   \n",
       "2   1/22/2012 19:00  40.506490 -105.886230            NaN    NaN        NaN   \n",
       "3    1/22/2012 7:00  39.886920 -105.760660            NaN      N    10400.0   \n",
       "4   1/14/2018 19:00  38.689060 -106.355380             SS     NE    11200.0   \n",
       "\n",
       "   Slope Degree  \n",
       "0           NaN  \n",
       "1           NaN  \n",
       "2           NaN  \n",
       "3           NaN  \n",
       "4          35.0  "
      ]
     },
     "execution_count": 23,
     "metadata": {},
     "output_type": "execute_result"
    }
   ],
   "source": [
    "#Lets check and see how it looks with the column names\n",
    "avalanche_df.head()"
   ]
  },
  {
   "cell_type": "code",
   "execution_count": 29,
   "id": "96e383d8-3442-4db7-b546-30a01e3c16de",
   "metadata": {},
   "outputs": [
    {
     "data": {
      "text/plain": [
       "52"
      ]
     },
     "execution_count": 29,
     "metadata": {},
     "output_type": "execute_result"
    }
   ],
   "source": [
    "#Out of curiosity lets see how many Avalanche Types (the Y of our model) we are missing\n",
    "avalanche_df['Avalanche Type'].isna().sum()"
   ]
  },
  {
   "cell_type": "code",
   "execution_count": 31,
   "id": "632712f3-06a9-486a-b210-896b0892ba42",
   "metadata": {},
   "outputs": [
    {
     "data": {
      "text/plain": [
       "256"
      ]
     },
     "execution_count": 31,
     "metadata": {},
     "output_type": "execute_result"
    }
   ],
   "source": [
    "#Lets compare that to how many non-nan values we have\n",
    "avalanche_df['Avalanche Type'].count()"
   ]
  },
  {
   "cell_type": "code",
   "execution_count": 34,
   "id": "28cd7604-5955-454e-a769-e915122ba54f",
   "metadata": {},
   "outputs": [
    {
     "data": {
      "text/plain": [
       "308"
      ]
     },
     "execution_count": 34,
     "metadata": {},
     "output_type": "execute_result"
    }
   ],
   "source": [
    "#And then the total length of the column\n",
    "len(avalanche_df['Avalanche Type'])"
   ]
  },
  {
   "cell_type": "code",
   "execution_count": 52,
   "id": "48dd70e0-3b6b-4a04-abed-b46821375af7",
   "metadata": {},
   "outputs": [
    {
     "data": {
      "text/plain": [
       "<Axes: >"
      ]
     },
     "execution_count": 52,
     "metadata": {},
     "output_type": "execute_result"
    },
    {
     "data": {
      "image/png": "[encoded data removed]",
      "text/plain": [
       "<Figure size 640x480 with 1 Axes>"
      ]
     },
     "metadata": {},
     "output_type": "display_data"
    }
   ],
   "source": [
    "#I like to use this trick to visualize how much missing data we have. It looks like theres a lot of missing slope degree and some missing\n",
    "#Data from other data types. Thankfully there are no missing dates, latitudes, or longitudes so I think we can feature engineer and fill these in\n",
    "sns.heatmap(avalanche_df.isnull(), yticklabels = False, cbar = False, cmap = 'viridis')"
   ]
  },
  {
   "cell_type": "code",
   "execution_count": null,
   "id": "1fd9b367-6e10-4811-a8a5-fa90e1e6065b",
   "metadata": {},
   "outputs": [],
   "source": [
    "#I'm going to focus on getting elevation sorted out first. Let me get familiar with elevation"
   ]
  },
  {
   "cell_type": "code",
   "execution_count": 54,
   "id": "56451242-1896-40c9-a60a-22bb2ca3368a",
   "metadata": {},
   "outputs": [
    {
     "data": {
      "text/plain": [
       "<Axes: ylabel='Elevation'>"
      ]
     },
     "execution_count": 54,
     "metadata": {},
     "output_type": "execute_result"
    },
    {
     "data": {
      "image/png": "[encoded data removed]",
      "text/plain": [
       "<Figure size 640x480 with 1 Axes>"
      ]
     },
     "metadata": {},
     "output_type": "display_data"
    }
   ],
   "source": [
    "sns.boxplot(avalanche_df, y = 'Elevation')"
   ]
  },
  {
   "cell_type": "code",
   "execution_count": null,
   "id": "eb1c77d9-f4ac-439c-9d44-1448cd14e83f",
   "metadata": {},
   "outputs": [],
   "source": [
    "#It appears the majority of avalanche accidents occur between 11,000 and 12,000 ft which makes sense, that is the majority of the peak elevations \n",
    "#within colorado."
   ]
  },
  {
   "cell_type": "code",
   "execution_count": 46,
   "id": "e1e05cfb-1fd6-4625-883f-935adfcd98c8",
   "metadata": {},
   "outputs": [
    {
     "data": {
      "text/plain": [
       "1700.0"
      ]
     },
     "execution_count": 46,
     "metadata": {},
     "output_type": "execute_result"
    }
   ],
   "source": [
    "#Let me find the < 2000ft outlier. Colorado is generally a minimum of 5280ft so 1700ft doesn't make sense.\n",
    "avalanche_df['Elevation'].min()"
   ]
  },
  {
   "cell_type": "code",
   "execution_count": 50,
   "id": "27bbbfe5-68c4-44b1-950c-57e4771c643f",
   "metadata": {},
   "outputs": [],
   "source": [
    "#Lets drop that row\n",
    "avalanche_df = avalanche_df.drop(avalanche_df['Elevation'].idxmin())"
   ]
  },
  {
   "cell_type": "code",
   "execution_count": 51,
   "id": "e146efbd-8134-407a-9725-8f959a79721e",
   "metadata": {},
   "outputs": [
    {
     "data": {
      "text/plain": [
       "8200.0"
      ]
     },
     "execution_count": 51,
     "metadata": {},
     "output_type": "execute_result"
    }
   ],
   "source": [
    "#Now check our minimum\n",
    "avalanche_df['Elevation'].min()"
   ]
  },
  {
   "cell_type": "code",
   "execution_count": null,
   "id": "5a6dc8b8-a34d-4dbb-a579-5547fd35c275",
   "metadata": {},
   "outputs": [],
   "source": [
    "#That seems more inline with avalanche elevations"
   ]
  },
  {
   "cell_type": "code",
   "execution_count": 39,
   "id": "97606173-af35-4049-bd70-ae079c9e2709",
   "metadata": {},
   "outputs": [],
   "source": [
    "#I found Elevation API that can extract Elevation from latitude and longitude. I'm going to try to use it:\n",
    "\n",
    "import requests\n",
    "\n",
    "def get_elevation(lat, lon):\n",
    "    url = 'https://api.open-elevation.com/api/v1/lookup'\n",
    "    params = {'locations': f'{lat},{lon}'}\n",
    "    response = requests.get(url, params=params).json()\n",
    "    elevation_meters = response['results'][0]['elevation']\n",
    "    return elevation_meters * 3.28084"
   ]
  },
  {
   "cell_type": "code",
   "execution_count": 41,
   "id": "da6a1323-9df0-443a-a80d-aca9b76d8ea1",
   "metadata": {},
   "outputs": [
    {
     "data": {
      "text/plain": [
       "11630.5778"
      ]
     },
     "execution_count": 41,
     "metadata": {},
     "output_type": "execute_result"
    }
   ],
   "source": [
    "#Lets test it against an elevation we know. I will use row 1. \n",
    "get_elevation(39.682316, -105.930845)"
   ]
  },
  {
   "cell_type": "code",
   "execution_count": 42,
   "id": "956307cb-b273-4f95-a0d2-48e393ce0351",
   "metadata": {},
   "outputs": [
    {
     "data": {
      "text/plain": [
       "11994.75104"
      ]
     },
     "execution_count": 42,
     "metadata": {},
     "output_type": "execute_result"
    }
   ],
   "source": [
    "#It gave us an elevation of 11,630 and our target elevation was 11,600!\n",
    "#lets run it again on another test point to check it\n",
    "get_elevation(38.008880, -107.873070)"
   ]
  },
  {
   "cell_type": "code",
   "execution_count": null,
   "id": "3d84e4d9-d7ac-4ec3-a62c-bb57e973da87",
   "metadata": {},
   "outputs": [],
   "source": [
    "#Not quite as accurate, it should have been 11,400ft. The free API may not have the highest resolution but it is relatively close\n",
    "#and is also a free api. For the sake of this project is should work."
   ]
  },
  {
   "cell_type": "code",
   "execution_count": 61,
   "id": "0e1244eb-65e0-4d5b-b870-db7cde7c3128",
   "metadata": {},
   "outputs": [],
   "source": [
    "#Lets make a function to fill the 52 missing elevation values. I hope this works with their API\n",
    "def fill_elevation(row):\n",
    "    if np.isnan(row['Elevation']):\n",
    "        return get_elevation(row['Latitude'], row['Longitude'])\n",
    "    else:\n",
    "        return row['Elevation']\n",
    "\n",
    "avalanche_df['Elevation'] = avalanche_df.apply(fill_elevation, axis = 1)\n",
    "        "
   ]
  },
  {
   "cell_type": "code",
   "execution_count": 67,
   "id": "677043cb-26e3-4159-9410-bfbc884ec250",
   "metadata": {},
   "outputs": [
    {
     "data": {
      "text/html": [
       "<div>\n",
       "<style scoped>\n",
       "    .dataframe tbody tr th:only-of-type {\n",
       "        vertical-align: middle;\n",
       "    }\n",
       "\n",
       "    .dataframe tbody tr th {\n",
       "        vertical-align: top;\n",
       "    }\n",
       "\n",
       "    .dataframe thead th {\n",
       "        text-align: right;\n",
       "    }\n",
       "</style>\n",
       "<table border=\"1\" class=\"dataframe\">\n",
       "  <thead>\n",
       "    <tr style=\"text-align: right;\">\n",
       "      <th></th>\n",
       "      <th>Date</th>\n",
       "      <th>Latitude</th>\n",
       "      <th>Longitude</th>\n",
       "      <th>Avalanche Type</th>\n",
       "      <th>Aspect</th>\n",
       "      <th>Elevation</th>\n",
       "      <th>Slope Degree</th>\n",
       "    </tr>\n",
       "  </thead>\n",
       "  <tbody>\n",
       "    <tr>\n",
       "      <th>0</th>\n",
       "      <td>2/20/2018 7:00</td>\n",
       "      <td>38.008880</td>\n",
       "      <td>-107.873070</td>\n",
       "      <td>HS</td>\n",
       "      <td>N</td>\n",
       "      <td>11400.00000</td>\n",
       "      <td>NaN</td>\n",
       "    </tr>\n",
       "    <tr>\n",
       "      <th>1</th>\n",
       "      <td>12/19/2024 19:00</td>\n",
       "      <td>39.682316</td>\n",
       "      <td>-105.930845</td>\n",
       "      <td>NaN</td>\n",
       "      <td>W</td>\n",
       "      <td>11600.00000</td>\n",
       "      <td>NaN</td>\n",
       "    </tr>\n",
       "    <tr>\n",
       "      <th>2</th>\n",
       "      <td>1/22/2012 19:00</td>\n",
       "      <td>40.506490</td>\n",
       "      <td>-105.886230</td>\n",
       "      <td>NaN</td>\n",
       "      <td>NaN</td>\n",
       "      <td>10134.51476</td>\n",
       "      <td>NaN</td>\n",
       "    </tr>\n",
       "    <tr>\n",
       "      <th>3</th>\n",
       "      <td>1/22/2012 7:00</td>\n",
       "      <td>39.886920</td>\n",
       "      <td>-105.760660</td>\n",
       "      <td>NaN</td>\n",
       "      <td>N</td>\n",
       "      <td>10400.00000</td>\n",
       "      <td>NaN</td>\n",
       "    </tr>\n",
       "    <tr>\n",
       "      <th>4</th>\n",
       "      <td>1/14/2018 19:00</td>\n",
       "      <td>38.689060</td>\n",
       "      <td>-106.355380</td>\n",
       "      <td>SS</td>\n",
       "      <td>NE</td>\n",
       "      <td>11200.00000</td>\n",
       "      <td>35.0</td>\n",
       "    </tr>\n",
       "  </tbody>\n",
       "</table>\n",
       "</div>"
      ],
      "text/plain": [
       "               Date   Latitude   Longitude Avalanche Type Aspect    Elevation  \\\n",
       "0    2/20/2018 7:00  38.008880 -107.873070             HS      N  11400.00000   \n",
       "1  12/19/2024 19:00  39.682316 -105.930845            NaN      W  11600.00000   \n",
       "2   1/22/2012 19:00  40.506490 -105.886230            NaN    NaN  10134.51476   \n",
       "3    1/22/2012 7:00  39.886920 -105.760660            NaN      N  10400.00000   \n",
       "4   1/14/2018 19:00  38.689060 -106.355380             SS     NE  11200.00000   \n",
       "\n",
       "   Slope Degree  \n",
       "0           NaN  \n",
       "1           NaN  \n",
       "2           NaN  \n",
       "3           NaN  \n",
       "4          35.0  "
      ]
     },
     "execution_count": 67,
     "metadata": {},
     "output_type": "execute_result"
    }
   ],
   "source": [
    "#It looks like it worked, it filled in the missing values\n",
    "avalanche_df.head()"
   ]
  },
  {
   "cell_type": "code",
   "execution_count": 64,
   "id": "c8c08a0b-bd9f-422e-9c35-7e43b461c261",
   "metadata": {},
   "outputs": [
    {
     "data": {
      "text/plain": [
       "<Axes: >"
      ]
     },
     "execution_count": 64,
     "metadata": {},
     "output_type": "execute_result"
    },
    {
     "data": {
      "image/png": "[encoded data removed]",
      "text/plain": [
       "<Figure size 640x480 with 1 Axes>"
      ]
     },
     "metadata": {},
     "output_type": "display_data"
    }
   ],
   "source": [
    "#Lets check\n",
    "sns.heatmap(avalanche_df.isnull(), yticklabels = False, cbar = False, cmap = 'viridis')"
   ]
  },
  {
   "cell_type": "code",
   "execution_count": 65,
   "id": "2586f2e0-2b19-444a-93d5-b8bca8d5d410",
   "metadata": {},
   "outputs": [
    {
     "data": {
      "text/plain": [
       "<Axes: ylabel='Elevation'>"
      ]
     },
     "execution_count": 65,
     "metadata": {},
     "output_type": "execute_result"
    },
    {
     "data": {
      "image/png": "[encoded data removed]",
      "text/plain": [
       "<Figure size 640x480 with 1 Axes>"
      ]
     },
     "metadata": {},
     "output_type": "display_data"
    }
   ],
   "source": [
    "#And then lets check that it actually filled them in and kept our distribution\n",
    "sns.boxplot(avalanche_df, y = 'Elevation')"
   ]
  },
  {
   "cell_type": "code",
   "execution_count": 69,
   "id": "cdbda199-0676-4830-8a7b-ef141bce6751",
   "metadata": {},
   "outputs": [],
   "source": [
    "#Great, now the last thing to do with the elevation column is set it's data type to integer\n",
    "avalanche_df['Elevation'] = avalanche_df['Elevation'].astype(int)"
   ]
  },
  {
   "cell_type": "code",
   "execution_count": 76,
   "id": "a3d8e810-9937-4638-bc9e-a8965a23991e",
   "metadata": {},
   "outputs": [
    {
     "data": {
      "text/plain": [
       "115"
      ]
     },
     "execution_count": 76,
     "metadata": {},
     "output_type": "execute_result"
    }
   ],
   "source": [
    "avalanche_df['Slope Degree'].isna().sum()"
   ]
  },
  {
   "cell_type": "code",
   "execution_count": null,
   "id": "05962cc7-e04c-47d0-8001-132b6b288344",
   "metadata": {},
   "outputs": [],
   "source": []
  }
 ],
 "metadata": {
  "kernelspec": {
   "display_name": "Python 3 (ipykernel)",
   "language": "python",
   "name": "python3"
  },
  "language_info": {
   "codemirror_mode": {
    "name": "ipython",
    "version": 3
   },
   "file_extension": ".py",
   "mimetype": "text/x-python",
   "name": "python",
   "nbconvert_exporter": "python",
   "pygments_lexer": "ipython3",
   "version": "3.12.7"
  }
 },
 "nbformat": 4,
 "nbformat_minor": 5
}
